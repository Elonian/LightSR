{
 "cells": [
  {
   "cell_type": "code",
   "execution_count": 10,
   "id": "c775ddb6",
   "metadata": {},
   "outputs": [
    {
     "name": "stdout",
     "output_type": "stream",
     "text": [
      "✅ DML unit test passed. Output shape: torch.Size([2, 64, 32, 32])\n"
     ]
    }
   ],
   "source": [
    "import torch\n",
    "import torch.nn as nn\n",
    "import torch.nn.functional as F\n",
    "\n",
    "class DynamicDepthwiseConv(nn.Module):\n",
    "    def __init__(self, in_channels, kernel_size):\n",
    "        super().__init__()\n",
    "        self.in_channels = in_channels\n",
    "        self.kernel_size = kernel_size\n",
    "        self.pad = kernel_size // 2\n",
    "\n",
    "        self.gap = nn.AdaptiveAvgPool2d(1)\n",
    "        self.kernel_gen = nn.Sequential(\n",
    "            nn.Linear(in_channels, in_channels // 4),\n",
    "            nn.GELU(),\n",
    "            nn.Linear(in_channels // 4, in_channels * kernel_size * kernel_size),\n",
    "            nn.Sigmoid()\n",
    "        )\n",
    "\n",
    "    def forward(self, x):\n",
    "        B, C, H, W = x.shape\n",
    "        K = self.kernel_size\n",
    "\n",
    "        pooled = self.gap(x).view(B, C)\n",
    "        weights = self.kernel_gen(pooled).view(B * C, 1, K, K)\n",
    "\n",
    "        x = x.reshape(1, B * C, H, W)\n",
    "        x = F.pad(x, (self.pad, self.pad, self.pad, self.pad), mode='reflect')\n",
    "\n",
    "        out = F.conv2d(x, weights, groups=B * C)\n",
    "        out = out.view(B, C, H, W)\n",
    "        return out\n",
    "\n",
    "\n",
    "class DynamicMixingLayer(nn.Module):\n",
    "    def __init__(self, in_channels, kernel_sizes=[5, 7]):\n",
    "        super().__init__()\n",
    "        assert in_channels % 2 == 0, \"in_channels must be divisible by 2 for channel split\"\n",
    "\n",
    "        self.norm = nn.LayerNorm(in_channels)\n",
    "        self.expand = nn.Conv2d(in_channels, in_channels * 2, kernel_size=1)\n",
    "\n",
    "        self.branch1 = DynamicDepthwiseConv(in_channels, kernel_sizes[0])\n",
    "        self.branch2 = DynamicDepthwiseConv(in_channels, kernel_sizes[1])\n",
    "\n",
    "        self.merge = nn.Conv2d(in_channels * 2, in_channels, kernel_size=1)\n",
    "\n",
    "    def forward(self, x):\n",
    "        B, C, H, W = x.shape\n",
    "        x = x.permute(0, 2, 3, 1)\n",
    "        x = self.norm(x).permute(0, 3, 1, 2)\n",
    "        x = self.expand(x)\n",
    "\n",
    "        x1, x2 = torch.chunk(x, 2, dim=1)\n",
    "        out1 = self.branch1(x1)\n",
    "        out2 = self.branch2(x2)\n",
    "\n",
    "        out = torch.cat([out1, out2], dim=1)\n",
    "        out = self.merge(out)\n",
    "        return out\n",
    "\n",
    "\n",
    "def test_dml_layer():\n",
    "    B, C, H, W = 2, 64, 32, 32\n",
    "    kernel_sizes = [5, 7]\n",
    "\n",
    "    assert C % 2 == 0, \"C must be divisible by 2 for channel splitting\"\n",
    "\n",
    "    x = torch.randn(B, C, H, W)\n",
    "    dml = DynamicMixingLayer(in_channels=C, kernel_sizes=kernel_sizes)\n",
    "    y = dml(x)\n",
    "\n",
    "    assert y.shape == x.shape, f\"Expected output shape {x.shape}, got {y.shape}\"\n",
    "    print(\"✅ DML unit test passed. Output shape:\", y.shape)\n",
    "\n",
    "\n",
    "# Run test\n",
    "test_dml_layer()\n"
   ]
  },
  {
   "cell_type": "code",
   "execution_count": null,
   "id": "b92eedb9",
   "metadata": {},
   "outputs": [],
   "source": []
  }
 ],
 "metadata": {
  "kernelspec": {
   "display_name": "myenv",
   "language": "python",
   "name": "python3"
  },
  "language_info": {
   "codemirror_mode": {
    "name": "ipython",
    "version": 3
   },
   "file_extension": ".py",
   "mimetype": "text/x-python",
   "name": "python",
   "nbconvert_exporter": "python",
   "pygments_lexer": "ipython3",
   "version": "3.10.17"
  }
 },
 "nbformat": 4,
 "nbformat_minor": 5
}
